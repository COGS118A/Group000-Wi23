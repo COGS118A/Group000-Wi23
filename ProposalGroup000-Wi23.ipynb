{
 "cells": [
  {
   "cell_type": "markdown",
   "metadata": {},
   "source": [
    "# COGS 118A- Project Proposal"
   ]
  },
  {
   "cell_type": "markdown",
   "metadata": {},
   "source": [
    "# Project Description\n",
    "\n",
    "You will design and execute a machine learning project. There are a few constraints on the nature of the allowed project. \n",
    "- The problem addressed will not be a \"toy problem\" or \"common training students problem\" like mtcars, iris, palmer penguins etc.\n",
    "- The dataset will have >1k observations and >5 variables. I'd prefer more like >10k observations and >10 variables. A general rule is that if you have >100x more observations than variables, your solution will likely generalize a lot better. The goal of training a supervised machine learning model is to learn the underlying pattern in a dataset in order to generalize well to unseen data, so choosing a large dataset is very important.\n",
    "\n",
    "- The project will include a model selection and/or feature selection component where you will be looking for the best setup to maximize the performance of your ML system.\n",
    "- You will evaluate the performance of your ML system using more than one appropriate metric\n",
    "- You will be writing a report describing and discussing these accomplishments\n",
    "\n",
    "\n",
    "Feel free to delete this description section when you hand in your proposal."
   ]
  },
  {
   "cell_type": "markdown",
   "metadata": {},
   "source": [
    "### Peer Review\n",
    "\n",
    "You will all have an opportunity to look at the Project Proposals of other groups to fuel your creativity and get more ideas for how you can improve your own projects. \n",
    "\n",
    "Both the project proposal and project checkpoint will have peer review."
   ]
  },
  {
   "cell_type": "markdown",
   "metadata": {},
   "source": [
    "# Names\n",
    "\n",
    "Hopefully your team is at least this good. Obviously you should replace these with your names.\n",
    "\n",
    "- Jacob Au\n",
    "- Evan Liu\n",
    "- Lauren Lui\n",
    "- Rina Kaura"
   ]
  },
  {
   "cell_type": "markdown",
   "metadata": {},
   "source": [
    "# Abstract "
   ]
  },
  {
   "cell_type": "markdown",
   "metadata": {},
   "source": [
    "The focus of our project is centered around predicting an individual’s quality of sleep based on an individual’s exercise habits and thus hopefully improving the quality of sleep. The goal of our project is to implement a model which accurately predicts and improves the quality of sleep. We will examine data collected from Lifesnaps Fitbit data which obtained various information on the exercise such as activity type, sleep duration, the amount of minutes to fall asleep, sleep efficiency, number of activity minutes, and BPM. With the collected data, we will utilize a linear regression model to make predictions and identify relationships between an individual’s quality of sleep and the exercise features as listed above. The performance of our linear regression model will be assessed using the mean absolute error (MAE), mean squared error (MSE), and the R-squared metric. \n"
   ]
  },
  {
   "cell_type": "markdown",
   "metadata": {},
   "source": [
    "# Background\n"
   ]
  },
  {
   "cell_type": "markdown",
   "metadata": {},
   "source": [
    "There is a lot of prior research investigating the correlation between exercise and sleep quality. The general consensus tends to be that exercise can improve sleep quality and duration for all age groups[1]. However, some studies show that exercise has a greater positive effect on people over 40 years of age than under[2], especially when these older individuals live a rather sedentary life[4]. Exercise has also been shown to be an effective substitute for pharmacological interventions to improve sleep quality in insomniacs[3]. The participants in our dataset come from a wide range of age groups and fall everywhere on the scale of sedentary to active lifestyle. Luckily, whether their exercise consisted of walking, cycling, aerobics, or sports shouldn’t affect the effectiveness of our model since prior research shows increases in exercise intensity and duration doesn’t appear to have significant effects on sleep quality[5]. With the existing body of knowledge, we know that there is indeed a correlation between exercise and sleep that we hope to predict with our model. \n",
    "One unanswered question from the literature is how strong the correlation between exercise and sleep quality is. The studies investigating the correlation were mostly just trying to find its existence and not its strength. The studies testing the strength of the correlation had biases and limitations that call their findings into question. Many of them had a majority, if not solely, male subject group for their study which is not a representative sample. Hence, with a representative database, our group is aiming to test the correlation between exercise and sleep quality by seeing if we can successfully train a model to predict sleep quality based on type, duration, and intensity of exercise. There is a risk of there not being a strong correlation between the two variables, but that is also something our group is willing to investigate and debunk or prove.\n",
    "\n",
    "[1] https://www.researchgate.net/profile/Zubia-Veqar/publication/236582394_Sleep_Quality_Improvement_and_Exercise_A_Review/links/00b495180b7a157bb9000000/Sleep-Quality-Improvement-and-Exercise-A-Review.pdf \n",
    "\n",
    "[2]https://www.sciencedirect.com/science/article/pii/S1836955312701066 \n",
    "\n",
    "[3] https://peerj.com/articles/5172/?fbclid=IwAR0LMECJQibRK-g3wN3mLIc4Eg4SjW0duz5KaF4-yK1L1gk3md79v61E3gQ&utm_source=TrendMD&utm_campaign=PeerJ_TrendMD_0&utm_medium=TrendMD \n",
    "[4] https://onlinelibrary.wiley.com/doi/full/10.1111/eci.13202 \n",
    "\n",
    "[5] https://link.springer.com/article/10.1007/s00421-011-2034-9 \n",
    "\n",
    "\n"
   ]
  },
  {
   "cell_type": "markdown",
   "metadata": {},
   "source": [
    "# Problem Statement"
   ]
  },
  {
   "cell_type": "markdown",
   "metadata": {},
   "source": [
    "The problem our project aims to address is improving the quality of an individual’s sleep based on one’s exercise habits, which is quantifiable, measurable, and replicable. We predict that exercise and quality of sleep must be correlated. This begs the question of how. What kind of exercise? How much exercise? When do you exercise? How do these factors affect your quality of sleep? Thanks to recent advances in personal technology, in particular the Fitbit, we are able to easily gain lots of quantitative data on people’s sleeping (rem/sleep ratio, duration, etc) and exercise habits (kind of exercise, heart rate, calories burned). Using these metrics, we should be able to accurately predict how an individual's exercising habits affect their sleep quality.\n",
    "\n"
   ]
  },
  {
   "cell_type": "markdown",
   "metadata": {},
   "source": [
    "# Data"
   ]
  },
  {
   "cell_type": "markdown",
   "metadata": {},
   "source": [
    "**Dataset Name:** Lifesnaps Fitbit Dataset\n",
    "\n",
    "**Link to the dataset:** https://www.kaggle.com/datasets/skywescar/lifesnaps-fitbit-dataset\n",
    "\n",
    "**Number of variables:** 63\n",
    "\n",
    "**Number of observations:** 7,410\n",
    "\n",
    "**Description:** Each observation in this dataset represents information collected regarding a specific fitbit user’s activity and device usage statistics over the course of a single day. The data from each observation was collected from one of 71 willing study participants.\n",
    "\n",
    "**Critical Variables:** For the purposes of the present analysis, some of the notable variables from the aforementioned dataset include:\n",
    "- id: Numeric representation of individual study participantnremhrs: Number of minutes of REM sleep logged in a single night (not hours)\n",
    "- minutesAsleep: Number of minutes of total sleep logged in a single night\n",
    "- sleep_rem_ratio: Proportion of sleep minutes occupied by REM sleep\n",
    "- bpm: Average daily beats per minute\n",
    "- activityType: List of all activities a user engaged in during a single day\n",
    "- sedentary_minutes: Number of minutes spent idling in a single day\n",
    "- lightly_active_minutes: Number of minutes spent engaging in light physical activity in a single day\n",
    "- moderately_active_minutes: Number of minutes spent engaging in moderate physical activity in a single day\n",
    "- very_active_minutes: Number of minutes spent engaging in strenuous physical activity in a single day\n",
    "- steps: Total number of steps walked over the course of a single day\n",
    "\n",
    "**Required Transformations:** Before operating on the original dataset in its given form, our group felt the need to refactor both the data and labels found within it in order to simplify the data extraction and identification processes. For example, the original dataset utilizes certain inconsistent column labeling schemes that make the task of identifying relevant columns more difficult, as in the case of camel-case labels clashing with underline-separated ones. Standardizing the naming convention of these multi-word labels, as well as refactoring labels with unintuitive names such as “nremhrs” which actually describes the number of minutes of REM sleep for a given user, is anticipated to help our group quickly and effectively utilize the dataset in our model. Additionally, given that certain metrics within the original dataset are recorded in different units despite the fact that columns with similar contents have different units, we also felt it necessary to standardize the numerous time-related metrics to be recorded in terms of minutes rather than hours and milliseconds. This transformation, we anticipated, would allow us to more easily apply a single model to our data and prevent the generation of inaccurate regression lines born from misleading numerical trends."
   ]
  },
  {
   "cell_type": "markdown",
   "metadata": {},
   "source": [
    "# Proposed Solution "
   ]
  },
  {
   "cell_type": "markdown",
   "metadata": {},
   "source": [
    "In order to predict a user’s quality of sleep from a selection of exercising features, we will be using **linear or polynomial regression**. This will allow us to find the relationships between the exercise features and sleep, and make predictions about their sleep quality. Using a train-validate-test split, we will also run cross validation to make predictions on what degree of polynomial we should try to fit. After finding the best degree, we will train our data, and see how it performs on the test set.\n",
    "\n",
    "Furthermore, if we find that we have too many columns to predict from performing the above statement, we may use **Principal Component Analysis** to reduce the dimensions, and then perform the above process again on the reduced data set. \n"
   ]
  },
  {
   "cell_type": "markdown",
   "metadata": {},
   "source": [
    "# Evaluation Metrics"
   ]
  },
  {
   "cell_type": "markdown",
   "metadata": {},
   "source": [
    "As the proposed analysis involves the use of a linear regression model to make predictions about sleep quality based on different exercise-related metrics, it is expected that the evaluation metrics used to quantify the performance of the model could include Mean Squared Error Score (MSE), Mean Absolute Error Score (MAE), or R-Squared Score. Preliminarily, Mean Squared Error was deemed a valid evaluation metric because it involves qualifying model performance based on differences between true and model-predicted labels, which is a task made more simple and computationally inexpensive given the aforementioned model’s inherent linear projections. Additionally, because this performance measure involves squaring the numerical differences between true and predicted values, further standardization of the original dataset to prevent the generation of negative scores would not be required, allowing models generated in successive validation folds to be compared with minimal difficulty. One concession associated with this method, however, is that because the final evaluation metric involves squaring errors, the measure is inherently sensitive to extraneous values and outliers, and given the varied values associated with the exercise and sleep columns of the target dataset, it is likely that rows exist in the dataset that could generate unwieldy evaluation scores. To address these concerns, our group also considered utilizing Mean Absolute Error to assess model performance, which substitutes the squaring process of MSE with a summation of error magnitude to address potentially negative scores. Alternatively, our group also considered substantiating the results of either of the aforementioned metrics with R-Squared scores, which qualifies model performance by taking the ratio of the sum of squared residuals and the sum of squares total, the latter of which is computed by squaring the difference between column values and the mean of that column. Inherently, this measure provides heightened interpretability compared to the other metrics, representing the degree to which the model’s performance surpasses the mean at each datapoint, with 0 representing no improvement and 1 representing perfect fit.\n"
   ]
  },
  {
   "cell_type": "markdown",
   "metadata": {},
   "source": [
    "# Ethics & Privacy"
   ]
  },
  {
   "cell_type": "markdown",
   "metadata": {},
   "source": [
    "As our dataset has a lot of personal health and exercise information, it is important that our participants remain anonymous. Although the participants gave consent to participate in the study and the data was collected unobtrusively, through a fitbit, it is possible to backtrack their identities in conjunction with their demographic information. Furthermore, because our project is so aligned with discovering what constitutes healthy exercising and sleeping patterns, we may be unintentionally promoting unhealthy exercise, dietary, and sleep habits. Health is not a one size fits all type situation, so we will take extra caution when discussing our findings.\n"
   ]
  },
  {
   "cell_type": "markdown",
   "metadata": {},
   "source": [
    "# Team Expectations "
   ]
  },
  {
   "cell_type": "markdown",
   "metadata": {},
   "source": [
    "- **Team Expectation 1:** Given our proposed project timeline, the members of our team should be expected to be present during these times in order to effectively complete the assigned section during that given meeting time. \n",
    "- **Team Expectation 2:** The discussion and completion of our project should be completed equally by all members of our team. Equal contribution in discussion, writing, and reviewing aspects of our project is expected of all team members.  \n",
    "- **Team Expectation 3:** Consideration of individual contributions, specifically the strength and weaknesses of each member, is important for effective and efficient completion of the project. \n"
   ]
  },
  {
   "cell_type": "markdown",
   "metadata": {},
   "source": [
    "# Project Timeline Proposal"
   ]
  },
  {
   "cell_type": "markdown",
   "metadata": {},
   "source": [
    "| Meeting Date | Meeting Time | Completed Before Meeting           | Discuss at Meeting                                                   |\n",
    "| ------------ | ------------ | ---------------------------------- | -------------------------------------------------------------------- |\n",
    "| 02/21        | 4:00 PM      | Brainstorm ideas on project ideas  | Project ideas for the project proposal and discuss team expectations |\n",
    "| 02/25        | 4:00 PM      | Peer review other projects         | Discuss how to improve project and start on project checkpoint       |\n",
    "| 03/01        | 4:00 PM      | Peer Review Due                    | Peer Review Due                                                      |\n",
    "| 03/04        | 4:00 PM      | Programming for project            | EDA, discussion of analysis, project code                            |\n",
    "| 03/08        | 4:00 PM      | Project Checkpoint Due             | Project Checkpoint Due                                               |\n",
    "| 03/18        | 4:00 PM      | Finalize project code and analysis | Review and edit project for submission                               |\n",
    "| 03/22        | 4:00 PM      | Final Project due                  | Final Project due                                                    |\n"
   ]
  },
  {
   "cell_type": "markdown",
   "metadata": {},
   "source": [
    "# Footnotes\n",
    "<a name=\"lorenznote\"></a>1.[^](#lorenz): Lorenz, T. (9 Dec 2021) Birds Aren’t Real, or Are They? Inside a Gen Z Conspiracy Theory. *The New York Times*. https://www.nytimes.com/2021/12/09/technology/birds-arent-real-gen-z-misinformation.html<br> \n",
    "<a name=\"admonishnote\"></a>2.[^](#admonish): Also refs should be important to the background, not some randomly chosen vaguely related stuff. Include a web link if possible in refs as above.<br>\n",
    "<a name=\"sotanote\"></a>3.[^](#sota): Perhaps the current state of the art solution such as you see on [Papers with code](https://paperswithcode.com/sota). Or maybe not SOTA, but rather a standard textbook/Kaggle solution to this kind of problem\n"
   ]
  }
 ],
 "metadata": {
  "kernelspec": {
   "display_name": "Python 3 (ipykernel)",
   "language": "python",
   "name": "python3"
  },
  "language_info": {
   "codemirror_mode": {
    "name": "ipython",
    "version": 3
   },
   "file_extension": ".py",
   "mimetype": "text/x-python",
   "name": "python",
   "nbconvert_exporter": "python",
   "pygments_lexer": "ipython3",
   "version": "3.9.5"
  }
 },
 "nbformat": 4,
 "nbformat_minor": 2
}
